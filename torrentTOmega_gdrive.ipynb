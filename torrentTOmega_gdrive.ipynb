{
  "nbformat": 4,
  "nbformat_minor": 0,
  "metadata": {
    "colab": {
      "name": "torrentTOmega/gdrive_v2.ipynb",
      "provenance": [],
      "collapsed_sections": []
    },
    "kernelspec": {
      "name": "python3",
      "display_name": "Python 3"
    },
    "accelerator": "GPU"
  },
  "cells": [
    {
      "cell_type": "markdown",
      "metadata": {
        "id": "aFQvgACaKDHf",
        "colab_type": "text"
      },
      "source": [
        "![alt text](https://i.imgur.com/RhSYbDW.png)"
      ]
    },
    {
      "cell_type": "code",
      "metadata": {
        "id": "dMnsw5KKDT6E",
        "colab_type": "code",
        "outputId": "0ef91373-9420-4de3-a35d-089ed61593e3",
        "colab": {
          "base_uri": "https://localhost:8080/",
          "height": 85
        }
      },
      "source": [
        "import os, subprocess; from IPython.display import clear_output\n",
        "\n",
        "!pkill ssh\n",
        "if os.path.isfile(\"/usr/local/bin/cloud-torrent\") == False:\n",
        " \t!curl https://i.jpillora.com/cloud-torrent! | bash\n",
        "else:\n",
        "  !pkill cloud-torrent\n",
        "clear_output(wait=True)\n",
        "\n",
        "#MEGAcmd installing\n",
        "if os.path.isfile(\"/usr/bin/mega-cmd\") == False:\n",
        " \t!sudo apt-get -y update && sudo apt-get -y install libmms0 libc-ares2 libc6 libcrypto++6 libgcc1 libmediainfo0v5 libpcre3 libpcrecpp0v5 libssl1.1 libstdc++6 libzen0v5 zlib1g apt-transport-https && sudo curl -sL -o/var/cache/apt/archives/MEGAcmd.deb https://mega.nz/linux/MEGAsync/Debian_9.0/amd64/megacmd-Debian_9.0_amd64.deb && sudo dpkg -i /var/cache/apt/archives/MEGAcmd.deb && sudo ldconfig\n",
        "else:\n",
        "  !pkill mega-cmd\n",
        "clear_output(wait=True)\n",
        "\n",
        "#Google Drive CLI Client\n",
        "if os.path.isfile(\"/usr/local/bin/gdrive\") == False:\n",
        "  !wget -q -c -nc https://github.com/gdrive-org/gdrive/releases/download/2.1.0/gdrive-linux-x64\n",
        "  !mv gdrive-linux-x64 /usr/local/bin/gdrive\n",
        "  !sudo chmod +x /usr/local/bin/gdrive\n",
        "  !rm -f /content/gdrive-linux-x64\n",
        "  clear_output(wait=True)\n",
        "else:\n",
        "  !pkill gdrive\n",
        "\n",
        "#Forwarding public server by serveo.net\n",
        "!nohup ssh -o StrictHostKeyChecking=no -R 80:localhost:4444 serveo.net > link.out &\n",
        "\n",
        "#Opening cloud-torrent in background\n",
        "!nohup cloud-torrent --port 4444 --title \"Cloud Torrent\" --log &\n",
        "clear_output()\n",
        "\n",
        "print(os.popen('cat link.out').read())"
      ],
      "execution_count": 31,
      "outputs": [
        {
          "output_type": "stream",
          "text": [
            "Pseudo-terminal will not be allocated because stdin is not a terminal.\n",
            "\u001b[32mForwarding HTTP traffic from https://tres.serveo.net\n",
            "\u001b[0mHTTP request from 42.0.4.231 to https://tres.serveo.net/sync?v=9&id=4dbabc5b\n",
            "\n"
          ],
          "name": "stdout"
        }
      ]
    },
    {
      "cell_type": "markdown",
      "metadata": {
        "id": "a5BiDpBV3gBD",
        "colab_type": "text"
      },
      "source": [
        "<img src=\"https://cdn0.iconfinder.com/data/icons/mattress-1/512/mattress-pad-bed-01-512.png\" weight=\"100px\" height=\"100px\"/><h1>Extracte Zip</h1>"
      ]
    },
    {
      "cell_type": "code",
      "metadata": {
        "id": "aK-ly9_92Chr",
        "colab_type": "code",
        "colab": {}
      },
      "source": [
        "!cd downloads/ && find . -name '*.zip' -exec sh -c 'unzip -d \"`dirname \\\"{}\\\"`\" \"{}\" && sudo rm \"`dirname \\\"{}\\\"`\" \"{}\"' ';'"
      ],
      "execution_count": 0,
      "outputs": []
    },
    {
      "cell_type": "markdown",
      "metadata": {
        "id": "kSvUMUuTPX7r",
        "colab_type": "text"
      },
      "source": [
        "![alt text](https://mega.nz/favicon.ico?v=3) \n",
        "#TRANSFERE to MEGA\n",
        "\n",
        "---\n",
        "\n",
        "\n",
        "\n"
      ]
    },
    {
      "cell_type": "code",
      "metadata": {
        "id": "q3uC2Lo5R6N9",
        "colab_type": "code",
        "colab": {}
      },
      "source": [
        "#INPUT YOUR MEGA ID\n",
        "!sudo ldconfig\n",
        "!mega-login USERNAME PASSWORD\n",
        "\n",
        "print(\"Done\")"
      ],
      "execution_count": 0,
      "outputs": []
    },
    {
      "cell_type": "code",
      "metadata": {
        "id": "E3N6hyM2I6hk",
        "colab_type": "code",
        "colab": {}
      },
      "source": [
        "#TRANSFERE NOW\n",
        "\n",
        "import contextlib\n",
        "import subprocess\n",
        "import time\n",
        "\n",
        "\n",
        "# Unix, Windows and old Macintosh end-of-line\n",
        "newlines = ['\\n', '\\r\\n', '\\r']\n",
        "def unbuffered(proc, stream='stdout'):\n",
        "    stream = getattr(proc, stream)\n",
        "    with contextlib.closing(stream):\n",
        "        while True:\n",
        "            out = []\n",
        "            last = stream.read(1)\n",
        "            # Don't loop forever\n",
        "            if last == '' and proc.poll() is not None:\n",
        "                break\n",
        "            while last not in newlines:\n",
        "                # Don't loop forever\n",
        "                if last == '' and proc.poll() is not None:\n",
        "                    break\n",
        "                out.append(last)\n",
        "                last = stream.read(1)\n",
        "            out = ''.join(out)\n",
        "            yield out\n",
        "\n",
        "def example():\n",
        "    cmd = ['mega-put', 'downloads', '/colab']\n",
        "    proc = subprocess.Popen(\n",
        "        cmd,\n",
        "        stdout=subprocess.PIPE,\n",
        "        stderr=subprocess.STDOUT,\n",
        "        # Make all end-of-lines '\\n'\n",
        "        universal_newlines=True,\n",
        "    )\n",
        "    for line in unbuffered(proc):\n",
        "        print(line)\n",
        "\n",
        "example()"
      ],
      "execution_count": 0,
      "outputs": []
    },
    {
      "cell_type": "markdown",
      "metadata": {
        "id": "yOnMe4O3jtXf",
        "colab_type": "text"
      },
      "source": [
        "<img src=\"https://upload.wikimedia.org/wikipedia/commons/a/ad/Logo_of_Google_Drive.svg\" weight=\"100px\" height=\"100px\" />\n",
        "<h2>TRANSFERE to Google drive</h2>"
      ]
    },
    {
      "cell_type": "code",
      "metadata": {
        "id": "ljfomn66wMz3",
        "colab_type": "code",
        "colab": {}
      },
      "source": [
        "#INPUT YOUR GOOGLE DRIVE authtoken\n",
        "\n",
        "!gdrive about\n"
      ],
      "execution_count": 0,
      "outputs": []
    },
    {
      "cell_type": "code",
      "metadata": {
        "id": "HGNUf02Lj2Sg",
        "colab_type": "code",
        "colab": {}
      },
      "source": [
        "#UPLOAD TO GOOGLE DRIVE\n",
        "\n",
        "!gdrive upload --recursive \"/content/downloads\""
      ],
      "execution_count": 0,
      "outputs": []
    }
  ]
}