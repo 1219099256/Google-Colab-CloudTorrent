{
  "nbformat": 4,
  "nbformat_minor": 0,
  "metadata": {
    "colab": {
      "name": "torrentTOmega/gdrive_v2.ipynb",
      "provenance": [],
      "collapsed_sections": []
    },
    "kernelspec": {
      "name": "python3",
      "display_name": "Python 3"
    },
    "accelerator": "GPU"
  },
  "cells": [
    {
      "cell_type": "code",
      "metadata": {
        "id": "dMnsw5KKDT6E",
        "colab_type": "code",
        "cellView": "form",
        "colab": {}
      },
      "source": [
        "#@markdown <h3>⬅️ Click Here to START server</h3>\n",
        "#@markdown <br><center><img src='https://i.imgur.com/RhSYbDW.png' height=\"100\" alt=\"netdata\"/></center>\n",
        "#@markdown <center><h3>☁️ Cloud Torrent: a self-hosted remote torrent client</h3></center><br>\n",
        "import os, sys, subprocess; from IPython.display import clear_output\n",
        "\n",
        "!pkill ssh\n",
        "\n",
        "if os.path.isfile(\"/usr/local/bin/cloud-torrent\") == False:\n",
        "  os.system('curl https://i.jpillora.com/cloud-torrent! | bash')\n",
        "else:\n",
        "  !pkill cloud-torrent\n",
        "clear_output(wait=True)\n",
        "\n",
        "#MEGAcmd installing\n",
        "if os.path.isfile(\"/usr/bin/mega-cmd\") == False:\n",
        "  os.system('sudo apt-get -y update && sudo apt-get -y install libmms0 libc-ares2 libc6 libcrypto++6 libgcc1 libmediainfo0v5 libpcre3 libpcrecpp0v5 libssl1.1 libstdc++6 libzen0v5 zlib1g apt-transport-https && sudo curl -sL -o/var/cache/apt/archives/MEGAcmd.deb https://mega.nz/linux/MEGAsync/Debian_9.0/amd64/megacmd-Debian_9.0_amd64.deb && sudo dpkg -i /var/cache/apt/archives/MEGAcmd.deb && sudo ldconfig')\n",
        "else:\n",
        "  !pkill mega-cmd\n",
        "clear_output(wait=True)\n",
        "\n",
        "#Google Drive CLI Client\n",
        "if os.path.isfile(\"/usr/local/bin/gdrive\") == False:\n",
        "  !wget -q -c -nc https://github.com/gdrive-org/gdrive/releases/download/2.1.0/gdrive-linux-x64\n",
        "  !mv gdrive-linux-x64 /usr/local/bin/gdrive\n",
        "  !sudo chmod +x /usr/local/bin/gdrive\n",
        "  !rm -f /content/gdrive-linux-x64\n",
        "  clear_output(wait=True)\n",
        "else:\n",
        "  !pkill gdrive\n",
        "\n",
        "#Forwarding public server by serveo.net\n",
        "!nohup ssh -o StrictHostKeyChecking=no -R 80:localhost:4444 serveo.net > link.out &\n",
        "\n",
        "#Opening cloud-torrent in background\n",
        "!nohup cloud-torrent --port 4444 --title \"Cloud Torrent\" --log &\n",
        "clear_output(wait=True)\n",
        "print(os.popen('tail -n 2 link.out').read())\n"
      ],
      "execution_count": 0,
      "outputs": []
    },
    {
      "cell_type": "code",
      "metadata": {
        "id": "aK-ly9_92Chr",
        "colab_type": "code",
        "cellView": "form",
        "colab": {}
      },
      "source": [
        "#@markdown <br><center><img src='https://cdn0.iconfinder.com/data/icons/mattress-1/512/mattress-pad-bed-01-512.png' height=\"100\" alt=\"netdata\"/></center>\n",
        "#@markdown <center><h2>Extracte Zip</h2></center><br>\n",
        "\n",
        "\n",
        "!cd downloads/ && find . -name '*.zip' -exec sh -c 'unzip -d \"`dirname \\\"{}\\\"`\" \"{}\" && sudo rm \"`dirname \\\"{}\\\"`\" \"{}\"' ';'"
      ],
      "execution_count": 0,
      "outputs": []
    },
    {
      "cell_type": "markdown",
      "metadata": {
        "id": "kSvUMUuTPX7r",
        "colab_type": "text"
      },
      "source": [
        "![alt text](https://mega.nz/favicon.ico?v=3) \n",
        "#TRANSFERE to MEGA\n",
        "\n",
        "---\n",
        "\n",
        "\n",
        "\n"
      ]
    },
    {
      "cell_type": "code",
      "metadata": {
        "id": "q3uC2Lo5R6N9",
        "colab_type": "code",
        "cellView": "form",
        "colab": {}
      },
      "source": [
        "#@markdown <center><h2>INPUT YOUR MEGA ID</h2></center><br>\n",
        "#@markdown <center>(If you see Fetching nodes 100% on stuck, rerun)</center><br>\n",
        "\n",
        "import os\n",
        "import contextlib\n",
        "import subprocess\n",
        "import time\n",
        "\n",
        "#INPUT YOUR MEGA ID\n",
        "\n",
        "USERNAME = \"\" #@param {type:\"string\"}\n",
        "PASSWORD = \"\" #@param {type:\"string\"}\n",
        "!sudo ldconfig\n",
        "# Unix, Windows and old Macintosh end-of-line\n",
        "newlines = ['\\n', '\\r\\n', '\\r']\n",
        "def unbuffered(proc, stream='stdout'):\n",
        "    stream = getattr(proc, stream)\n",
        "    with contextlib.closing(stream):\n",
        "        while True:\n",
        "            out = []\n",
        "            last = stream.read(1)\n",
        "            # Don't loop forever\n",
        "            if last == '' and proc.poll() is not None:\n",
        "                break\n",
        "            while last not in newlines:\n",
        "                # Don't loop forever\n",
        "                if last == '' and proc.poll() is not None:\n",
        "                    break\n",
        "                out.append(last)\n",
        "                last = stream.read(1)\n",
        "            out = ''.join(out)\n",
        "            yield out\n",
        "\n",
        "def example():\n",
        "    cmd = ['mega-login', USERNAME, PASSWORD]\n",
        "    proc = subprocess.Popen(\n",
        "        cmd,\n",
        "        stdout=subprocess.PIPE,\n",
        "        stderr=subprocess.STDOUT,\n",
        "        # Make all end-of-lines '\\n'\n",
        "        universal_newlines=True,\n",
        "    )\n",
        "    for line in unbuffered(proc):\n",
        "        clear_output(wait=True)\n",
        "        print(line)\n",
        "example()\n",
        "!mega-whoami\n"
      ],
      "execution_count": 0,
      "outputs": []
    },
    {
      "cell_type": "code",
      "metadata": {
        "id": "E3N6hyM2I6hk",
        "colab_type": "code",
        "cellView": "form",
        "colab": {}
      },
      "source": [
        "#@markdown <br><center><img src='https://www.impactcomputing.co.uk/uploads/files/services/managed-office-365.svg' height=\"100\" alt=\"netdata\"/></center>\n",
        "#@markdown <center><h2>TRANSFERE NOW</h2></center><br>\n",
        "#TRANSFERE NOW\n",
        "\n",
        "import contextlib\n",
        "import subprocess\n",
        "import time\n",
        "\n",
        "\n",
        "# Unix, Windows and old Macintosh end-of-line\n",
        "newlines = ['\\n', '\\r\\n', '\\r']\n",
        "def unbuffered(proc, stream='stdout'):\n",
        "    stream = getattr(proc, stream)\n",
        "    with contextlib.closing(stream):\n",
        "        while True:\n",
        "            out = []\n",
        "            last = stream.read(1)\n",
        "            # Don't loop forever\n",
        "            if last == '' and proc.poll() is not None:\n",
        "                break\n",
        "            while last not in newlines:\n",
        "                # Don't loop forever\n",
        "                if last == '' and proc.poll() is not None:\n",
        "                    break\n",
        "                out.append(last)\n",
        "                last = stream.read(1)\n",
        "            out = ''.join(out)\n",
        "            yield out\n",
        "\n",
        "def example():\n",
        "    cmd = ['mega-put', 'downloads', '/colab']\n",
        "    proc = subprocess.Popen(\n",
        "        cmd,\n",
        "        stdout=subprocess.PIPE,\n",
        "        stderr=subprocess.STDOUT,\n",
        "        # Make all end-of-lines '\\n'\n",
        "        universal_newlines=True,\n",
        "    )\n",
        "    for line in unbuffered(proc):\n",
        "        clear_output(wait=True)\n",
        "        print(line)\n",
        "\n",
        "example()"
      ],
      "execution_count": 0,
      "outputs": []
    },
    {
      "cell_type": "markdown",
      "metadata": {
        "id": "yOnMe4O3jtXf",
        "colab_type": "text"
      },
      "source": [
        "<img src=\"https://upload.wikimedia.org/wikipedia/commons/a/ad/Logo_of_Google_Drive.svg\" weight=\"100px\" height=\"100px\" />\n",
        "<h2>TRANSFERE to Google drive</h2>"
      ]
    },
    {
      "cell_type": "code",
      "metadata": {
        "id": "ljfomn66wMz3",
        "colab_type": "code",
        "cellView": "form",
        "colab": {}
      },
      "source": [
        "#@markdown <h3>⬅️ Click Here to</h3>\n",
        "\n",
        "#@markdown #INPUT YOUR GOOGLE DRIVE authtoken\n",
        "#@markdown #### (SOMETIMES WRITING ISSUES. SO RUN AGAIN)\n",
        "\n",
        "!gdrive about\n"
      ],
      "execution_count": 0,
      "outputs": []
    },
    {
      "cell_type": "code",
      "metadata": {
        "id": "HGNUf02Lj2Sg",
        "colab_type": "code",
        "cellView": "form",
        "colab": {}
      },
      "source": [
        "#UPLOAD TO GOOGLE DRIVE\n",
        "#@markdown <br><center><img src='https://support.questetra.com/wp-content/uploads/2018/04/googledrive-simpleupload-fi-en.png' height=\"200\" alt=\"netdata\"/></center>\n",
        "#@markdown <center><h2>TRANSFERE NOW</h2></center><br>\n",
        "\n",
        "!gdrive upload --recursive /content/downloads"
      ],
      "execution_count": 0,
      "outputs": []
    }
  ]
}